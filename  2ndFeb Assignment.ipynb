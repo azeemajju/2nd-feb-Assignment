{
 "cells": [
  {
   "cell_type": "code",
   "execution_count": 1,
   "id": "7c215efb",
   "metadata": {},
   "outputs": [],
   "source": [
    "# (q1):Explain with an example each when to use a for loop and a while loop. "
   ]
  },
  {
   "cell_type": "code",
   "execution_count": 5,
   "id": "d80ce15b",
   "metadata": {},
   "outputs": [
    {
     "name": "stdout",
     "output_type": "stream",
     "text": [
      "apple\n",
      "orange\n",
      "grapes\n",
      "1\n",
      "2\n",
      "3\n",
      "4\n",
      "5\n",
      "6\n",
      "7\n",
      "8\n",
      "9\n"
     ]
    }
   ],
   "source": [
    "# Ans: for loop is used when u have a block of code which you want to repeat it for fixed number of times.\n",
    "#A \"For\" Loop is used to repeat a specific block of code a known number of times. For example, if we want to check the grade of every student in the class, we loop from 1 to that number. When the number of times is not known before hand, we use a \"While\" loop.\n",
    "# 'For loop'\n",
    "fruits =['apple','orange','grapes']\n",
    "for x in fruits:\n",
    "        print(x)\n",
    "# 'while loop'\n",
    "i =1\n",
    "while i<10:\n",
    "    print(i)\n",
    "    i =i+1"
   ]
  },
  {
   "cell_type": "code",
   "execution_count": 6,
   "id": "72829a4b",
   "metadata": {},
   "outputs": [],
   "source": [
    "# (q2): Write a python program to print the sum and product of the first 10 natural numbers using for  and while loop. "
   ]
  },
  {
   "cell_type": "code",
   "execution_count": 2,
   "id": "2113e283",
   "metadata": {},
   "outputs": [
    {
     "name": "stdout",
     "output_type": "stream",
     "text": [
      "55\n",
      "3628800\n"
     ]
    }
   ],
   "source": [
    "# 'for loop'\n",
    "_sum =0\n",
    "product =1\n",
    "for i in range(1,11):\n",
    "    _sum =_sum+i\n",
    "    product =product*i\n",
    "print(_sum)\n",
    "print(product)      "
   ]
  },
  {
   "cell_type": "code",
   "execution_count": 1,
   "id": "aef6aad4",
   "metadata": {},
   "outputs": [
    {
     "name": "stdout",
     "output_type": "stream",
     "text": [
      "55\n",
      "3628800\n"
     ]
    }
   ],
   "source": [
    "# 'while loop'\n",
    "_sum =0\n",
    "product =1\n",
    "i =1\n",
    "while i<=10:\n",
    "    _sum =_sum+i\n",
    "    product =product*i\n",
    "    i =i+1\n",
    "print(_sum)\n",
    "print(product)"
   ]
  },
  {
   "cell_type": "code",
   "execution_count": 7,
   "id": "ef9da003",
   "metadata": {},
   "outputs": [
    {
     "name": "stdout",
     "output_type": "stream",
     "text": [
      "please enter your unit bill 77\n",
      "77 is your monthly unit and total bill is 346.5\n"
     ]
    }
   ],
   "source": [
    "# (Q3):\n",
    "unit =int(input(\"please enter your unit bill \"))\n",
    "bill =0\n",
    "if unit<=100:\n",
    "    bill = unit*4.5\n",
    "    print(f\"{unit} is your monthly unit and total bill is {bill}\")\n",
    "elif unit<=200:\n",
    "    bill =unit*6\n",
    "    print(f\"{unit} is your monthly unit and total bill is {bill}\")\n",
    "elif unit<=300:\n",
    "    bill =unit*10\n",
    "    print(f\"{unit} is your monthly unit and total bill is {bill}\")\n",
    "elif unit>300:\n",
    "    bill =unit*20\n",
    "    print(f\"{unit} is your monthly unit and total bill is {bill}\")"
   ]
  },
  {
   "cell_type": "code",
   "execution_count": null,
   "id": "e801d7b5",
   "metadata": {},
   "outputs": [],
   "source": [
    "#()"
   ]
  },
  {
   "cell_type": "code",
   "execution_count": null,
   "id": "ea465c3b",
   "metadata": {},
   "outputs": [],
   "source": []
  },
  {
   "cell_type": "code",
   "execution_count": null,
   "id": "c73c9d66",
   "metadata": {},
   "outputs": [],
   "source": []
  },
  {
   "cell_type": "code",
   "execution_count": null,
   "id": "5ac7d71b",
   "metadata": {},
   "outputs": [],
   "source": []
  },
  {
   "cell_type": "code",
   "execution_count": null,
   "id": "af7b0e39",
   "metadata": {},
   "outputs": [],
   "source": []
  },
  {
   "cell_type": "code",
   "execution_count": null,
   "id": "cbe3db4d",
   "metadata": {},
   "outputs": [],
   "source": []
  },
  {
   "cell_type": "code",
   "execution_count": null,
   "id": "00f8493f",
   "metadata": {},
   "outputs": [],
   "source": []
  },
  {
   "cell_type": "code",
   "execution_count": null,
   "id": "ac2ac4a7",
   "metadata": {},
   "outputs": [],
   "source": []
  },
  {
   "cell_type": "code",
   "execution_count": null,
   "id": "84e8d816",
   "metadata": {},
   "outputs": [],
   "source": []
  },
  {
   "cell_type": "code",
   "execution_count": null,
   "id": "d12edf18",
   "metadata": {},
   "outputs": [],
   "source": []
  }
 ],
 "metadata": {
  "kernelspec": {
   "display_name": "Python 3 (ipykernel)",
   "language": "python",
   "name": "python3"
  },
  "language_info": {
   "codemirror_mode": {
    "name": "ipython",
    "version": 3
   },
   "file_extension": ".py",
   "mimetype": "text/x-python",
   "name": "python",
   "nbconvert_exporter": "python",
   "pygments_lexer": "ipython3",
   "version": "3.9.13"
  }
 },
 "nbformat": 4,
 "nbformat_minor": 5
}
